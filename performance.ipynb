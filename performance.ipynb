{
 "cells": [
  {
   "cell_type": "markdown",
   "id": "6dd4c35e-8394-4b48-9222-a45203a45261",
   "metadata": {},
   "source": [
    "## Sample Overview\n",
    "\n",
    "Here, we select the first 100 of 2252 scaped photographs. The ChatGPT integration is the final cell."
   ]
  },
  {
   "cell_type": "code",
   "execution_count": 1,
   "id": "e164cb64-d455-4687-bd88-951e2f4e51c0",
   "metadata": {},
   "outputs": [
    {
     "name": "stdout",
     "output_type": "stream",
     "text": [
      "100 %\n",
      "Loaded 100 images!\n"
     ]
    }
   ],
   "source": [
    "import io\n",
    "import cv2\n",
    "import json\n",
    "import time\n",
    "import requests\n",
    "import numpy as np\n",
    "from matplotlib import pyplot as plt\n",
    "from random import sample as samp\n",
    "from IPython.display import clear_output\n",
    "from lib.util import to_ai_url, setup_plt\n",
    "from lib.load import index_urls, gen_images\n",
    "from lib.load import index_classes\n",
    "from lib.util import setup_viz_box, draw_viz_box\n",
    "from lib.truth import to_truth\n",
    "from lib.ai import gen_results\n",
    "from lib.stats import to_ious\n",
    "\n",
    "USE_AWS_AI = True\n",
    "\n",
    "print(\"testing\", \"on aws\" if (USE_AWS_AI) else \"locally\")\n",
    "plt.rcParams[\"figure.figsize\"] = (16,16)\n",
    "plt.rcParams[\"figure.dpi\"] = 40\n",
    "\n",
    "NUM_READ = 100\n",
    "photos = []\n",
    "\n",
    "classes = list(index_classes('images.json'))\n",
    "photo_sources = []\n",
    "with open('images.json', 'r') as rf:\n",
    "    for f in json.load(rf)[1:]:\n",
    "        if (len(photo_sources) >= NUM_READ): break\n",
    "        photo_sources.append({\"file_name\": f})\n",
    "\n",
    "print(f'Loading {len(photo_sources)} photos...')\n",
    "photo_gen = gen_images(photo_sources, '/')\n",
    "\n",
    "for photo in photo_gen:\n",
    "    photos.append(photo)\n",
    "    if len(photos) % 10 == 0:\n",
    "        clear_output(wait=True)\n",
    "        print(round(100*len(photos)/len(photo_sources)),'%')\n",
    "\n",
    "print('Loaded', len(photos), 'images!')\n",
    "\n",
    "## OCR"
   ]
  },
  {
   "cell_type": "code",
   "execution_count": 2,
   "id": "cf352b80-d88d-42bb-b008-67427992ec9c",
   "metadata": {},
   "outputs": [
    {
     "name": "stdout",
     "output_type": "stream",
     "text": [
      "6 %\n",
      "Done with classifier and OCR!\n"
     ]
    }
   ],
   "source": [
    "try: photos\n",
    "except NameError:\n",
    "    raise(Exception(\"Please run prior cell\"))\n",
    "try: USE_AWS_AI\n",
    "except NameError:\n",
    "    raise(Exception(\"Please run first cell\"))\n",
    "\n",
    "results = []\n",
    "for res in gen_results(USE_AWS_AI, photos):\n",
    "    results.append(res)\n",
    "    clear_output(wait=True)\n",
    "    print(round(100*len(results)/len(photo)),'%')"
   ]
  },
  {
   "cell_type": "code",
   "execution_count": 3,
   "id": "3ccce0ae-aa4d-496f-b51f-b89fcc30235c",
   "metadata": {},
   "outputs": [
    {
     "name": "stdout",
     "output_type": "stream",
     "text": [
      "sample size: 100\n"
     ]
    }
   ],
   "source": [
    "from pathlib import Path\n",
    "\n",
    "try: photo_sources and results\n",
    "except NameError:\n",
    "    raise(Exception(\"Please run prior cells\"))\n",
    "\n",
    "def list_classes(photo_sources):\n",
    "    classes = []\n",
    "    for s in photo_sources:\n",
    "        cls = Path(s[\"file_name\"]).parent.name\n",
    "        classes.append({ \"text\": cls })\n",
    "    return classes\n",
    "\n",
    "truth = list_classes(photo_sources)\n",
    "samples = list(zip(truth, results))\n",
    "print(f'sample size: {len(samples)}')"
   ]
  },
  {
   "cell_type": "markdown",
   "id": "9e2144bf-7ea2-48ca-b775-937031d32647",
   "metadata": {},
   "source": [
    "# Evaluation"
   ]
  },
  {
   "cell_type": "code",
   "execution_count": 4,
   "id": "794c490e-67bf-480f-8251-00136fffcac8",
   "metadata": {},
   "outputs": [
    {
     "data": {
      "image/png": "[encoded data removed]",
      "text/plain": [
       "<Figure size 640x640 with 1 Axes>"
      ]
     },
     "metadata": {},
     "output_type": "display_data"
    }
   ],
   "source": [
    "from Levenshtein import distance\n",
    "\n",
    "try: truth and results\n",
    "except NameError:\n",
    "    raise(Exception(\"Please run prior cells\"))\n",
    "\n",
    "def sort_by_confidence(res):\n",
    "    if len(res[\"ocr_all_results\"]) == 0:\n",
    "        return {**res}\n",
    "    ocr_confident = sorted(res[\"ocr_all_results\"], key=lambda r: [\"score\"], reverse=True)\n",
    "    return {**res, \"ocr_all_results\": [ocr_confident[0]]}\n",
    "    \n",
    "f_r = [sort_by_confidence(r) for r in results]\n",
    "\n",
    "def filter_by_confidence(rea, res, thresh):\n",
    "    if len(res[\"ocr_all_results\"]) == 0: return False\n",
    "    return res[\"ocr_all_results\"][0][\"score\"] > thresh\n",
    "\n",
    "def filter_by_dist(rea, res):\n",
    "    if (len(res[\"ocr_all_results\"]) == 0): return False\n",
    "    lev = distance(rea[\"text\"], res[\"prediction\"])\n",
    "    # Levenshtein distance\n",
    "    return lev <= 3\n",
    "\n",
    "ALL_THRESH = [0.5, 0.55, 0.60, 0.65, 0.70, 0.75, 0.80, 0.85, 0.90, 0.95]\n",
    "ALL_PRECISION = []\n",
    "ALL_RECALL = []\n",
    "\n",
    "# Calculate precision and recall\n",
    "for THRESH in ALL_THRESH:\n",
    "    retrieved = [v for v in zip(truth, f_r) if filter_by_confidence(v[0], v[1], THRESH)]\n",
    "    relevant = [v for v in zip(truth, f_r) if filter_by_dist(v[0], v[1])]\n",
    "    relevant_retrieved = [v for v in retrieved if filter_by_dist(v[0], v[1])]\n",
    "    ALL_PRECISION.append(len(relevant_retrieved)/len(retrieved))\n",
    "    ALL_RECALL.append(len(relevant_retrieved)/len(relevant))\n",
    "\n",
    "# Data from presentation\n",
    "#ALL_PRECISION = [0.0625, 0.06818181818181818, 0.06818181818181818, 0.05, 0.02631578947368421, 0.02631578947368421, 0.029411764705882353, 0.03225806451612903, 0.03571428571428571, 0.04]\n",
    "#AL__RECALL = [0.3333333333333333, 0.3333333333333333, 0.3333333333333333, 0.2222222222222222, 0.1111111111111111, 0.1111111111111111, 0.1111111111111111, 0.1111111111111111, 0.1111111111111111, 0.1111111111111111]\n",
    "\n",
    "plt.gca().xaxis.grid(True, color='k')\n",
    "plt.gca().yaxis.grid(True)\n",
    "plt.scatter(ALL_RECALL, ALL_PRECISION)\n",
    "plt.title(f'Precision and Recall by OCR Threshold', fontsize = 40)\n",
    "plt.tick_params(axis='both', which='major', labelsize = 30)\n",
    "\n",
    "plt.xlabel(\"Recall\", fontsize=40)\n",
    "plt.ylabel(\"Precision\", fontsize=40)\n",
    "plt.show() # TODO"
   ]
  }
 ],
 "metadata": {
  "kernelspec": {
   "display_name": "Python 3 (ipykernel)",
   "language": "python",
   "name": "python3"
  },
  "language_info": {
   "codemirror_mode": {
    "name": "ipython",
    "version": 3
   },
   "file_extension": ".py",
   "mimetype": "text/x-python",
   "name": "python",
   "nbconvert_exporter": "python",
   "pygments_lexer": "ipython3",
   "version": "3.9.17"
  }
 },
 "nbformat": 4,
 "nbformat_minor": 5
}
