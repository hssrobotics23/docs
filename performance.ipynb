{
 "cells": [
  {
   "cell_type": "markdown",
   "id": "6dd4c35e-8394-4b48-9222-a45203a45261",
   "metadata": {},
   "source": [
    "## Reading generated images"
   ]
  },
  {
   "cell_type": "code",
   "execution_count": null,
   "id": "12f8b14e-6558-4516-8f7d-ef2f0e6d4faa",
   "metadata": {},
   "outputs": [],
   "source": [
    "import io\n",
    "import cv2\n",
    "import json\n",
    "import time\n",
    "import requests\n",
    "import numpy as np\n",
    "from matplotlib import pyplot as plt\n",
    "from random import sample as samp\n",
    "from IPython.display import clear_output\n",
    "from lib.util import to_ai_url, setup_plt\n",
    "from lib.load import index_urls, gen_images\n",
    "from lib.util import setup_viz_box, draw_viz_box\n",
    "from lib.truth import to_truth\n",
    "from lib.ai import gen_results\n",
    "from lib.stats import to_ious\n",
    "\n",
    "USE_AWS_AI = True\n",
    "\n",
    "print(\"testing\", \"on aws\" if (USE_AWS_AI) else \"locally\")\n",
    "plt.rcParams[\"figure.figsize\"] = (16,16)\n",
    "plt.rcParams[\"figure.dpi\"] = 40\n",
    "\n",
    "SPICES = [\n",
    "    'allspice', 'anise', 'caraway', 'cardamom', 'celery_seed',\n",
    "    'chiles', 'cinnamon', 'cloves', 'coriander', 'cumin',\n",
    "    'dill_seed', 'fennel', 'fenugreek', 'ground_ginger',\n",
    "    'ground_pepper', 'mace_spice', 'mustard_seed', 'nutmeg',\n",
    "    'peppercorns', 'saffron', 'salt', 'sumac', 'tumeric',\n",
    "    'vanilla_extract'\n",
    "]"
   ]
  },
  {
   "cell_type": "code",
   "execution_count": null,
   "id": "35ebc63a-72dc-45f5-8857-a560ff45250a",
   "metadata": {},
   "outputs": [],
   "source": [
    "NUM_READ = -1 # Unlimited\n",
    "#NUM_READ = 5 # TODO\n",
    "\n",
    "images = []\n",
    "sources = index_urls('merged.json', NUM_READ)\n",
    "NUM_ALL = len(sources)\n",
    "if (NUM_READ < 0):\n",
    "    print(f'Loading {NUM_ALL} images...')\n",
    "else:\n",
    "    print(f'Loading {min(NUM_READ,NUM_ALL)} images...')\n",
    "image_gen = gen_images(sources)\n",
    "\n",
    "for src in sources:\n",
    "    img = None\n",
    "    try: img = next(image_gen)\n",
    "    except StopIteration: break\n",
    "    images.append(img)\n",
    "    if len(images) % 10 == 0:\n",
    "        clear_output(wait=True)\n",
    "        print(round(100*len(images)/len(sources)),'%')\n",
    "\n",
    "print('Loaded', len(images), 'images!')"
   ]
  },
  {
   "cell_type": "markdown",
   "id": "3eb15f82-480f-496b-95b5-97cd8e4b4cdd",
   "metadata": {},
   "source": [
    "## OCR"
   ]
  },
  {
   "cell_type": "code",
   "execution_count": null,
   "id": "cf352b80-d88d-42bb-b008-67427992ec9c",
   "metadata": {},
   "outputs": [],
   "source": [
    "try: images\n",
    "except NameError:\n",
    "    raise(Exception(\"Please run prior cell\"))\n",
    "try: USE_AWS_AI\n",
    "except NameError:\n",
    "    raise(Exception(\"Please run first cell\"))\n",
    "\n",
    "results = []\n",
    "for res in gen_results(USE_AWS_AI, images):\n",
    "    results.append(res)\n",
    "    clear_output(wait=True)\n",
    "    print(round(100*len(results)/len(images)),'%')"
   ]
  },
  {
   "cell_type": "markdown",
   "id": "5b1a2c56-716c-4091-85bd-3ea23241978c",
   "metadata": {},
   "source": [
    "## Visualization"
   ]
  },
  {
   "cell_type": "code",
   "execution_count": null,
   "id": "3ccce0ae-aa4d-496f-b51f-b89fcc30235c",
   "metadata": {},
   "outputs": [],
   "source": [
    "try: sources and images and results\n",
    "except NameError:\n",
    "    raise(Exception(\"Please run prior cells\"))\n",
    "\n",
    "N_VIZ = 5\n",
    "DELAY_VIZ = 1.0\n",
    "\n",
    "truth = to_truth(sources)\n",
    "samples = list(zip(truth, images, results))\n",
    "print(f'sample size: {len(samples)}')\n",
    "\n",
    "for (i, (real, img, res)) in enumerate(samples):\n",
    "    res_text = res[\"ocr_all_results\"][0][\"text\"]\n",
    "    res_box = res[\"ocr_all_results\"][0][\"box\"]\n",
    "    rea_text = real[\"text\"]\n",
    "    rea_box = real[\"box\"]\n",
    "    if (i >= N_VIZ): continue\n",
    "    time.sleep(DELAY_VIZ)\n",
    "    setup_plt()\n",
    "    clear_output(wait=True)\n",
    "    plt.imshow(img)\n",
    "\n",
    "    # Title to viz box plot\n",
    "    viz_setup = setup_viz_box(res_text, rea_text)\n",
    "\n",
    "    # Draw predicted bounding boxes\n",
    "    draw_viz_box('predicted', [res_box], viz_setup[\"predicted\"])\n",
    "\n",
    "    draw_viz_box('actual', rea_box, viz_setup[\"actual\"])\n",
    "        \n",
    "    plt.legend(fontsize = 20)\n",
    "    plt.show()\n",
    "print('DONE')\n"
   ]
  },
  {
   "cell_type": "markdown",
   "id": "9e2144bf-7ea2-48ca-b775-937031d32647",
   "metadata": {},
   "source": [
    "# Evaluation"
   ]
  },
  {
   "cell_type": "code",
   "execution_count": null,
   "id": "794c490e-67bf-480f-8251-00136fffcac8",
   "metadata": {},
   "outputs": [],
   "source": [
    "try: images and truth and results\n",
    "except NameError:\n",
    "    raise(Exception(\"Please run prior cells\"))\n",
    "    \n",
    "ious = to_ious(images, truth, results)\n",
    "\n",
    "setup_plt(True)\n",
    "bin_range = list(range(0,100,5))\n",
    "plt.gca().xaxis.grid(True, color='k')\n",
    "plt.gca().yaxis.grid(True)\n",
    "plt.hist(ious, bins = bin_range, density = False)\n",
    "plt.title(f'Histogram of IOU (intersection over union)', fontsize = 50)\n",
    "plt.tick_params(axis='both', which='major', labelsize = 30)\n",
    "plt.xticks(bin_range, [f'{x}' for x in bin_range])\n",
    "\n",
    "plt.xticks(bin_range)\n",
    "plt.xlabel(\"Intersection as % of union\", fontsize=40)\n",
    "plt.ylabel(\"Occurrences\", fontsize=40)\n",
    "plt.show() # TODO\n",
    "    "
   ]
  },
  {
   "cell_type": "code",
   "execution_count": null,
   "id": "b9d9de6e-af35-4179-b072-4f71bca6d32b",
   "metadata": {},
   "outputs": [],
   "source": [
    "try: ious\n",
    "except NameError:\n",
    "    raise(Exception(\"Please run prior cell\"))\n",
    "    \n",
    "MEAN_IOU = np.mean(ious)\n",
    "\n",
    "TEXT_EQUALITY = [a[\"text\"] == b['ocr_all_results'][0][\"text\"] for (a, b) in zip(truth, results)]\n",
    "TEXT_ACCURACY = int(np.array(TEXT_EQUALITY, dtype=bool).sum())/len(TEXT_EQUALITY)\n",
    "MEAN_CORRECT_IOU = np.mean(np.array(ious)[TEXT_EQUALITY])\n",
    "\n",
    "print(f'{round(MEAN_IOU, 3)}% mean IOU')\n",
    "print(f'   {round(MEAN_CORRECT_IOU, 3)}% for true predictions')\n",
    "print(f'\\n{round(TEXT_ACCURACY*100, 3)}% text accuracy')"
   ]
  },
  {
   "cell_type": "code",
   "execution_count": null,
   "id": "02e40f6a-a363-4491-89a8-05723940c79a",
   "metadata": {},
   "outputs": [],
   "source": [
    "try: TEXT_EQUALITY and results\n",
    "except NameError:\n",
    "    raise(Exception(\"Please run prior cell\"))\n",
    "\n",
    "N_GPT = 5\n",
    "DELAY_GPT = 5.0\n",
    "\n",
    "ai_server_url = to_ai_url(USE_AWS_AI)\n",
    "print(f'Using Custom AI: {ai_server_url}')\n",
    "\n",
    "#api request instructions\n",
    "def chat_with_gpt(spices):\n",
    "    endpoint = f'{ai_server_url}recipe'\n",
    "    response = requests.post(endpoint, json.dumps({\n",
    "        \"spices\": spices\n",
    "    }))\n",
    "    res_data = response.json()\n",
    "    return res_data\n",
    "  \n",
    "found_spices = set([v['ocr_all_results'][0][\"text\"] for (t,v) in zip(TEXT_EQUALITY, results) if t])\n",
    "spice_lists = [samp(list(found_spices),samp([2,3,4],1)[0]) for _ in range(N_GPT)]\n",
    "    \n",
    "for spices in spice_lists:\n",
    "    clear_output(wait=True)\n",
    "    print('INPUT SPICES:')\n",
    "    print('-', ', '.join(spices))\n",
    "    output = chat_with_gpt(spices)\n",
    "    print('\\nOUTPUT RECIPE:')\n",
    "    print(f'{len(output[\"spices\"]) - len(spices)} added spices')\n",
    "    print(f'{len(output[\"ingredients\"])} added ingredients')\n",
    "    print()\n",
    "    print(output[\"text\"])\n",
    "    time.sleep(DELAY_GPT)\n",
    "    print('\\n')"
   ]
  },
  {
   "cell_type": "code",
   "execution_count": null,
   "id": "483d40cd-cb66-474c-b842-3945ea754ae0",
   "metadata": {},
   "outputs": [],
   "source": []
  }
 ],
 "metadata": {
  "kernelspec": {
   "display_name": "Python 3 (ipykernel)",
   "language": "python",
   "name": "python3"
  },
  "language_info": {
   "codemirror_mode": {
    "name": "ipython",
    "version": 3
   },
   "file_extension": ".py",
   "mimetype": "text/x-python",
   "name": "python",
   "nbconvert_exporter": "python",
   "pygments_lexer": "ipython3",
   "version": "3.9.17"
  }
 },
 "nbformat": 4,
 "nbformat_minor": 5
}
